{
  "nbformat": 4,
  "nbformat_minor": 0,
  "metadata": {
    "colab": {
      "provenance": [],
      "mount_file_id": "18x19lseCXdIsT9nk6epi5CAmNPadmG1g",
      "authorship_tag": "ABX9TyM8y0PPI0tdLvOpFdfAoq1c",
      "include_colab_link": true
    },
    "kernelspec": {
      "name": "python3",
      "display_name": "Python 3"
    },
    "language_info": {
      "name": "python"
    }
  },
  "cells": [
    {
      "cell_type": "markdown",
      "metadata": {
        "id": "view-in-github",
        "colab_type": "text"
      },
      "source": [
        "<a href=\"https://colab.research.google.com/github/mubbasherahmad/End-to-End-Linear-Regression-ML-Project/blob/main/Passenger%20Survival%20in%20Titanic%20Shipwreck.ipynb\" target=\"_parent\"><img src=\"https://colab.research.google.com/assets/colab-badge.svg\" alt=\"Open In Colab\"/></a>"
      ]
    },
    {
      "cell_type": "code",
      "execution_count": null,
      "metadata": {
        "id": "yih0yOqCBvPe"
      },
      "outputs": [],
      "source": [
        "sdsddsdsa"
      ]
    }
  ]
}